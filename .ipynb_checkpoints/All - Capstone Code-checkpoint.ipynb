{
 "cells": [
  {
   "cell_type": "markdown",
   "metadata": {},
   "source": [
    "**Imports**"
   ]
  },
  {
   "cell_type": "code",
   "execution_count": null,
   "metadata": {
    "collapsed": false
   },
   "outputs": [],
   "source": [
    "from clean import complete_metadata_code\n",
    "from clean import complete_abstracts_code\n",
    "from clean import complete_vocab_code\n",
    "from the_data import code_the_data\n",
    "from clustering import from_the_data_to_dendogram\n",
    "from time_series import doc_and_year\n",
    "from time_series import plot_one_topic\n",
    "from getting_data import source_to_xml\n",
    "from implement_lda import from_abstracts_to_topics\n",
    "from implement_lda import strip_abstract\n",
    "from topic_interpreter import find_nt\n",
    "from topic_interpreter import topic_words\n",
    "from plotter import plot_average\n",
    "\n",
    "import numpy as np\n",
    "import matplotlib.pyplot as plt\n",
    "from tqdm import tqdm_notebook\n",
    "from nltk import word_tokenize\n",
    "from gensim import corpora, models, similarities\n",
    "from scipy.cluster.hierarchy import dendrogram"
   ]
  },
  {
   "cell_type": "markdown",
   "metadata": {},
   "source": [
    "**Getting data**"
   ]
  },
  {
   "cell_type": "code",
   "execution_count": null,
   "metadata": {
    "collapsed": false
   },
   "outputs": [],
   "source": [
    "#source = '/Users/elise/Documents/Capstone/Data/all_xml_jstor'\n",
    "metadata = source_to_xml(source)"
   ]
  },
  {
   "cell_type": "markdown",
   "metadata": {},
   "source": [
    "**Cleaning data**"
   ]
  },
  {
   "cell_type": "code",
   "execution_count": null,
   "metadata": {
    "collapsed": false
   },
   "outputs": [],
   "source": [
    "complete_metadata = complete_metadata_code(metadata)"
   ]
  },
  {
   "cell_type": "markdown",
   "metadata": {},
   "source": [
    "- Variables; journals is all journals unless another list is defined"
   ]
  },
  {
   "cell_type": "code",
   "execution_count": null,
   "metadata": {
    "collapsed": false
   },
   "outputs": [],
   "source": [
    "journals = [x[3][0] for x in tqdm_notebook(complete_metadata)]"
   ]
  },
  {
   "cell_type": "code",
   "execution_count": null,
   "metadata": {
    "collapsed": false
   },
   "outputs": [],
   "source": [
    "all_years = [str(element[2][0]) for element in complete_metadata]"
   ]
  },
  {
   "cell_type": "code",
   "execution_count": null,
   "metadata": {
    "collapsed": true
   },
   "outputs": [],
   "source": [
    "complete_abstracts = complete_abstracts_code(journals, complete_metadata)\n",
    "complete_vocab = complete_vocab_code(complete_abstracts)"
   ]
  },
  {
   "cell_type": "code",
   "execution_count": null,
   "metadata": {
    "collapsed": false
   },
   "outputs": [],
   "source": [
    "print 'The amount of complete entries in this subset of the data: ', len(complete_abstracts)"
   ]
  },
  {
   "cell_type": "markdown",
   "metadata": {},
   "source": [
    "**Finding Number of Topics**"
   ]
  },
  {
   "cell_type": "code",
   "execution_count": null,
   "metadata": {
    "collapsed": true
   },
   "outputs": [],
   "source": [
    "complete_vocab_set = set(complete_vocab)\n",
    "\n",
    "stripped_abstracts = []\n",
    "for abstract in complete_abstracts:\n",
    "    stripped_abstracts.append(strip_abstract(abstract, complete_vocab_set))\n",
    "    \n",
    "dictionary = corpora.Dictionary(stripped_abstracts)\n",
    "\n",
    "corpus = []\n",
    "for text in stripped_abstracts:\n",
    "    corpus.append(dictionary.doc2bow(text))"
   ]
  },
  {
   "cell_type": "code",
   "execution_count": null,
   "metadata": {
    "collapsed": false
   },
   "outputs": [],
   "source": [
    "all_topic_coherence = []\n",
    "for i in tqdm_notebook(range(100)[1:]):\n",
    "    all_topic_coherence.append(find_nt(i, corpus, dictionary))"
   ]
  },
  {
   "cell_type": "code",
   "execution_count": null,
   "metadata": {
    "collapsed": false
   },
   "outputs": [],
   "source": [
    "def convert_to_mean_and_std(one_topic_coherence):\n",
    "    the_list = [float(i.split(']')[0][1:]) for i in one_topic_coherence[0][:-3]]\n",
    "    mean = np.mean(the_list)\n",
    "    std_dev = np.std(the_list)\n",
    "    return [mean, std_dev]\n",
    "\n",
    "mean_and_std_for_all = [convert_to_mean_and_std(x) for x in all_topic_coherence]"
   ]
  },
  {
   "cell_type": "code",
   "execution_count": null,
   "metadata": {
    "collapsed": true
   },
   "outputs": [],
   "source": [
    "def plot_topic_coherence(minrange, maxrange, dataset):\n",
    "    \n",
    "    y = [x[0] for x in mean_and_std_for_all]\n",
    "    std = [x[1] for x in mean_and_std_for_all]\n",
    "    x = range(99)\n",
    "\n",
    "    plt.errorbar(x, y, std, color='black', linestyle='-', marker='o', markersize=4, \n",
    "                 markerfacecolor='black', elinewidth=0.5, markeredgecolor='black')\n",
    "\n",
    "    plt.title('All - Number of Topics', fontsize=12)\n",
    "    plt.ylabel('Average Topic Coherence', fontsize=10)\n",
    "    plt.xlabel('Number of Topics', fontsize=10)\n",
    "    plt.ylim([0, 0.04])\n",
    "    plt.xlim([minrange, maxrange])\n",
    "    plt.grid(True)\n",
    "    plt.yticks(fontsize = 7, weight='light')\n",
    "    plt.xticks(fontsize = 7, weight='light')\n",
    "\n",
    "    plt.savefig('/Users/elise/Documents/Capstone/Graphs/TC-all-' + str(minrange) + '-' + str(maxrange) + '.png')\n",
    "    plt.show()"
   ]
  },
  {
   "cell_type": "code",
   "execution_count": null,
   "metadata": {
    "collapsed": true
   },
   "outputs": [],
   "source": [
    "plot_topic_coherence(0, 100)\n",
    "plot_topic_coherence(40, 60)\n",
    "plot_topic_coherence(0, 20)"
   ]
  },
  {
   "cell_type": "markdown",
   "metadata": {},
   "source": [
    "- Based on graph the number of topics is decided"
   ]
  },
  {
   "cell_type": "code",
   "execution_count": null,
   "metadata": {
    "collapsed": true
   },
   "outputs": [],
   "source": [
    "n = 43\n",
    "extra = 9"
   ]
  },
  {
   "cell_type": "code",
   "execution_count": null,
   "metadata": {
    "collapsed": false
   },
   "outputs": [],
   "source": [
    "for x in all_topic_coherence[extra][1]:\n",
    "    print topic_words(x)"
   ]
  },
  {
   "cell_type": "markdown",
   "metadata": {},
   "source": [
    "**Implementing LDA**"
   ]
  },
  {
   "cell_type": "code",
   "execution_count": null,
   "metadata": {
    "collapsed": false
   },
   "outputs": [],
   "source": [
    "stripped_abstracts, lda_model, corpus, model, dictionary = from_abstracts_to_topics(complete_abstracts, complete_vocab, n)"
   ]
  },
  {
   "cell_type": "markdown",
   "metadata": {
    "collapsed": true
   },
   "source": [
    "**Constructing time series**"
   ]
  },
  {
   "cell_type": "code",
   "execution_count": null,
   "metadata": {
    "collapsed": false
   },
   "outputs": [],
   "source": [
    "with_doc_n_and_year = doc_and_year(corpus, all_years, model)"
   ]
  },
  {
   "cell_type": "code",
   "execution_count": null,
   "metadata": {
    "collapsed": false
   },
   "outputs": [],
   "source": [
    "the_data = code_the_data(with_doc_n_and_year, all_years, n)"
   ]
  },
  {
   "cell_type": "markdown",
   "metadata": {
    "collapsed": true
   },
   "source": [
    "**Clustering**"
   ]
  },
  {
   "cell_type": "code",
   "execution_count": null,
   "metadata": {
    "collapsed": false
   },
   "outputs": [],
   "source": [
    "Z = from_the_data_to_dendogram(n, the_data)"
   ]
  },
  {
   "cell_type": "code",
   "execution_count": null,
   "metadata": {
    "collapsed": false,
    "scrolled": true
   },
   "outputs": [],
   "source": [
    "plt.figure(figsize=(20, 8))\n",
    "plt.title('Hierarchical Clustering Dendrogram', fontsize=16)\n",
    "plt.xlabel('Topics', fontsize=14)\n",
    "plt.ylabel('Distance', fontsize=14)\n",
    "dendrogram(Z, color_threshold=0.6)\n",
    "\n",
    "fig_x = plt.figure(1)\n",
    "ax_x = fig_x.add_subplot(111)\n",
    "plt.yticks(fontsize = 10, weight='light')\n",
    "plt.xticks(fontsize = 15, weight='light')\n",
    "\n",
    "plt.savefig('/Users/elise/Documents/Capstone/Graphs/dendrogram-all.png')\n",
    "plt.show()"
   ]
  },
  {
   "cell_type": "code",
   "execution_count": null,
   "metadata": {
    "collapsed": false,
    "scrolled": false
   },
   "outputs": [],
   "source": [
    "cluster1 = [32, 12, 15, 10, 5, 0, 6, 7, 20, 17, 4, 37]\n",
    "cluster2 = [14, 27, 19, 22, 2, 30, 34, 1, 13]\n",
    "cluster3 = [18, 31, 23, 24, 41, 40, 42, 21, 26, 33, 39, 9, 16, 29, 11, 28]\n",
    "cluster4 = [8, 35, 36, 38, 3, 25]\n",
    "\n",
    "print dendrogram(Z, color_threshold=0.6)['leaves']"
   ]
  },
  {
   "cell_type": "code",
   "execution_count": null,
   "metadata": {
    "collapsed": false
   },
   "outputs": [],
   "source": [
    "plot_average(the_data, cluster1, 1, 'all-')\n",
    "plot_average(the_data, cluster2, 2, 'all-')\n",
    "plot_average(the_data, cluster3, 3, 'all-')\n",
    "plot_average(the_data, cluster4, 4, 'all-')"
   ]
  }
 ],
 "metadata": {
  "anaconda-cloud": {},
  "kernelspec": {
   "display_name": "Python [conda root]",
   "language": "python",
   "name": "conda-root-py"
  },
  "language_info": {
   "codemirror_mode": {
    "name": "ipython",
    "version": 2
   },
   "file_extension": ".py",
   "mimetype": "text/x-python",
   "name": "python",
   "nbconvert_exporter": "python",
   "pygments_lexer": "ipython2",
   "version": "2.7.12"
  }
 },
 "nbformat": 4,
 "nbformat_minor": 1
}
