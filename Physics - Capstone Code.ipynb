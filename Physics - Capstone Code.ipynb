{
 "cells": [
  {
   "cell_type": "markdown",
   "metadata": {},
   "source": [
    "**Imports**"
   ]
  },
  {
   "cell_type": "code",
   "execution_count": null,
   "metadata": {
    "collapsed": false
   },
   "outputs": [],
   "source": [
    "from clean import complete_metadata_code\n",
    "from clean import complete_abstracts_code\n",
    "from clean import complete_vocab_code\n",
    "from the_data import code_the_data\n",
    "from clustering import from_the_data_to_dendogram\n",
    "from time_series import doc_and_year\n",
    "from time_series import plot_one_topic\n",
    "from getting_data import source_to_xml\n",
    "from implement_lda import from_abstracts_to_topics\n",
    "from implement_lda import strip_abstract\n",
    "from topic_interpreter import find_nt\n",
    "from topic_interpreter import topic_words\n",
    "from plotter import plot_average\n",
    "\n",
    "import numpy as np\n",
    "import matplotlib.pyplot as plt\n",
    "from tqdm import tqdm_notebook\n",
    "from nltk import word_tokenize\n",
    "from gensim import corpora, models, similarities\n",
    "from scipy.cluster.hierarchy import dendrogram"
   ]
  },
  {
   "cell_type": "markdown",
   "metadata": {},
   "source": [
    "**Getting data**"
   ]
  },
  {
   "cell_type": "code",
   "execution_count": null,
   "metadata": {
    "collapsed": false
   },
   "outputs": [],
   "source": [
    "#source = '/Users/elise/Documents/Capstone/Data/all_xml_jstor'\n",
    "metadata = source_to_xml(source)"
   ]
  },
  {
   "cell_type": "markdown",
   "metadata": {},
   "source": [
    "**Cleaning data**"
   ]
  },
  {
   "cell_type": "code",
   "execution_count": null,
   "metadata": {
    "collapsed": false
   },
   "outputs": [],
   "source": [
    "complete_metadata = complete_metadata_code(metadata)"
   ]
  },
  {
   "cell_type": "markdown",
   "metadata": {},
   "source": [
    "- Variables; journals is all journals unless another list is defined"
   ]
  },
  {
   "cell_type": "code",
   "execution_count": null,
   "metadata": {
    "collapsed": false
   },
   "outputs": [],
   "source": [
    "journals = [x[3][0] for x in tqdm_notebook(complete_metadata)]\n",
    "\n",
    "physics_journals = ['Proceedings: Mathematical, Physical and Engineering Sciences', \n",
    "                    'Proceedings: Mathematical and Physical Sciences',\n",
    "                    'Proceedings of the Royal Society of London. Series A, Mathematical and Physical Sciences',\n",
    "                    'Proceedings of the Royal Irish Academy. Section A: Mathematical and Physical Sciences',\n",
    "                    'Philosophical Transactions: Physical Sciences and Engineering',\n",
    "                    'Philosophical Transactions: Mathematical, Physical and Engineering Sciences',\n",
    "                    'Philosophical Transactions of the Royal Society of London. Series A, Mathematical and Physical Sciences']\n",
    "\n",
    "journals = physics_journals"
   ]
  },
  {
   "cell_type": "code",
   "execution_count": null,
   "metadata": {
    "collapsed": false
   },
   "outputs": [],
   "source": [
    "all_years = [str(element[2][0]) for element in complete_metadata if any(element[3][0] == x for x in journals)]"
   ]
  },
  {
   "cell_type": "code",
   "execution_count": null,
   "metadata": {
    "collapsed": false,
    "scrolled": true
   },
   "outputs": [],
   "source": [
    "complete_abstracts = complete_abstracts_code(journals, complete_metadata)\n",
    "complete_vocab = complete_vocab_code(complete_abstracts)"
   ]
  },
  {
   "cell_type": "code",
   "execution_count": null,
   "metadata": {
    "collapsed": false
   },
   "outputs": [],
   "source": [
    "print 'The amount of complete entries in this subset of the data: ', len(complete_abstracts)"
   ]
  },
  {
   "cell_type": "markdown",
   "metadata": {},
   "source": [
    "**Finding Number of Topics**"
   ]
  },
  {
   "cell_type": "code",
   "execution_count": null,
   "metadata": {
    "collapsed": false
   },
   "outputs": [],
   "source": [
    "complete_vocab_set = set(complete_vocab)\n",
    "\n",
    "stripped_abstracts = []\n",
    "for abstract in complete_abstracts:\n",
    "    stripped_abstracts.append(strip_abstract(abstract, complete_vocab_set))\n",
    "    \n",
    "dictionary = corpora.Dictionary(stripped_abstracts)\n",
    "\n",
    "corpus = []\n",
    "for text in stripped_abstracts:\n",
    "    corpus.append(dictionary.doc2bow(text))"
   ]
  },
  {
   "cell_type": "code",
   "execution_count": null,
   "metadata": {
    "collapsed": false,
    "scrolled": true
   },
   "outputs": [],
   "source": [
    "all_topic_coherence = []\n",
    "for i in tqdm_notebook(range(100)[1:]):\n",
    "    all_topic_coherence.append(find_nt(i, corpus, dictionary))"
   ]
  },
  {
   "cell_type": "code",
   "execution_count": null,
   "metadata": {
    "collapsed": false,
    "scrolled": false
   },
   "outputs": [],
   "source": [
    "def convert_to_mean_and_std(one_topic_coherence):\n",
    "    the_list = [float(i.split(']')[0][1:]) for i in one_topic_coherence[0][:-3]]\n",
    "    mean = np.mean(the_list)\n",
    "    std_dev = np.std(the_list)\n",
    "    return [mean, std_dev]\n",
    "\n",
    "mean_and_std_for_all = [convert_to_mean_and_std(x) for x in all_topic_coherence]"
   ]
  },
  {
   "cell_type": "code",
   "execution_count": null,
   "metadata": {
    "collapsed": true
   },
   "outputs": [],
   "source": [
    "def plot_topic_coherence(minrange, maxrange, dataset):\n",
    "    \n",
    "    y = [x[0] for x in mean_and_std_for_all]\n",
    "    std = [x[1] for x in mean_and_std_for_all]\n",
    "    x = range(99)\n",
    "\n",
    "    plt.errorbar(x, y, std, color='black', linestyle='-', marker='o', markersize=4, \n",
    "                 markerfacecolor='black', elinewidth=0.5, markeredgecolor='black')\n",
    "\n",
    "    plt.title('All - Number of Topics', fontsize=12)\n",
    "    plt.ylabel('Average Topic Coherence', fontsize=10)\n",
    "    plt.xlabel('Number of Topics', fontsize=10)\n",
    "    plt.ylim([0, 0.04])\n",
    "    plt.xlim([minrange, maxrange])\n",
    "    plt.grid(True)\n",
    "    plt.yticks(fontsize = 7, weight='light')\n",
    "    plt.xticks(fontsize = 7, weight='light')\n",
    "\n",
    "    #plt.savefig('/Users/elise/Documents/Capstone/Graphs/TC-physics-' + str(minrange) + '-' + str(maxrange) + '.png')\n",
    "    plt.show()"
   ]
  },
  {
   "cell_type": "code",
   "execution_count": null,
   "metadata": {
    "collapsed": true
   },
   "outputs": [],
   "source": [
    "plot_topic_coherence(0, 100)\n",
    "plot_topic_coherence(40, 60)"
   ]
  },
  {
   "cell_type": "markdown",
   "metadata": {},
   "source": [
    "- Based on graph the number of topics is decided"
   ]
  },
  {
   "cell_type": "code",
   "execution_count": null,
   "metadata": {
    "collapsed": true
   },
   "outputs": [],
   "source": [
    "n = 54"
   ]
  },
  {
   "cell_type": "code",
   "execution_count": null,
   "metadata": {
    "collapsed": false,
    "scrolled": false
   },
   "outputs": [],
   "source": [
    "for x in all_topic_coherence[n][1]:\n",
    "    print topic_words(x)"
   ]
  },
  {
   "cell_type": "markdown",
   "metadata": {},
   "source": [
    "**Implementing LDA**"
   ]
  },
  {
   "cell_type": "code",
   "execution_count": null,
   "metadata": {
    "collapsed": false
   },
   "outputs": [],
   "source": [
    "stripped_abstracts, lda_model, corpus, model, dictionary = from_abstracts_to_topics(complete_abstracts, complete_vocab, n)"
   ]
  },
  {
   "cell_type": "markdown",
   "metadata": {
    "collapsed": true
   },
   "source": [
    "**Constructing time series**"
   ]
  },
  {
   "cell_type": "code",
   "execution_count": null,
   "metadata": {
    "collapsed": false
   },
   "outputs": [],
   "source": [
    "with_doc_n_and_year = doc_and_year(corpus, all_years, model)"
   ]
  },
  {
   "cell_type": "code",
   "execution_count": null,
   "metadata": {
    "collapsed": false
   },
   "outputs": [],
   "source": [
    "the_data = code_the_data(with_doc_n_and_year, all_years, n)"
   ]
  },
  {
   "cell_type": "markdown",
   "metadata": {
    "collapsed": true
   },
   "source": [
    "**Clustering**"
   ]
  },
  {
   "cell_type": "code",
   "execution_count": null,
   "metadata": {
    "collapsed": false
   },
   "outputs": [],
   "source": [
    "Z = from_the_data_to_dendogram(n, the_data)"
   ]
  },
  {
   "cell_type": "code",
   "execution_count": null,
   "metadata": {
    "collapsed": false
   },
   "outputs": [],
   "source": [
    "plt.figure(figsize=(20, 8))\n",
    "plt.title('Hierarchical Clustering Dendrogram')\n",
    "plt.xlabel('sample index')\n",
    "plt.ylabel('distance')\n",
    "dendrogram(Z, color_threshold=0.6)\n",
    "\n",
    "fig_x = plt.figure(1)\n",
    "ax_x = fig_x.add_subplot(111)\n",
    "plt.yticks(fontsize = 10, weight='light')\n",
    "plt.xticks(fontsize = 15, weight='light')\n",
    "\n",
    "#plt.savefig('/Users/elise/Documents/Capstone/Graphs/dendrogram-physics.png')\n",
    "plt.show()"
   ]
  },
  {
   "cell_type": "code",
   "execution_count": null,
   "metadata": {
    "collapsed": false
   },
   "outputs": [],
   "source": [
    "print dendrogram(Z, color_threshold=0.6)['leaves']\n",
    "\n",
    "cluster1 = [25, 35]\n",
    "cluster3 = [23, 28, 32, 39, 10, 20, 36, 7, 50]\n",
    "cluster4 = [47, 8, 5, 53, 27, 13, 33, 41, 49, 38, 9, 44, 15, 1, 16, 31, 24, 29, 12, 43, 21, 3, 51, 22, 45] \n",
    "cluster5 = [19, 18, 37, 52]\n",
    "cluster6 = [0, 14, 26, 6, 48, 11, 4, 17, 34, 30, 42, 40, 2, 46]"
   ]
  },
  {
   "cell_type": "code",
   "execution_count": null,
   "metadata": {
    "collapsed": false,
    "scrolled": false
   },
   "outputs": [],
   "source": [
    "plot_average(the_data, cluster1, 1, 'physics-')\n",
    "plot_average(the_data, cluster3, 2, 'physics-')\n",
    "plot_average(the_data, cluster4, 3, 'physics-')\n",
    "plot_average(the_data, cluster5, 4, 'physics-')\n",
    "plot_average(the_data, cluster6, 5, 'physics-')"
   ]
  }
 ],
 "metadata": {
  "anaconda-cloud": {},
  "kernelspec": {
   "display_name": "Python [conda root]",
   "language": "python",
   "name": "conda-root-py"
  },
  "language_info": {
   "codemirror_mode": {
    "name": "ipython",
    "version": 2
   },
   "file_extension": ".py",
   "mimetype": "text/x-python",
   "name": "python",
   "nbconvert_exporter": "python",
   "pygments_lexer": "ipython2",
   "version": "2.7.12"
  },
  "widgets": {
   "state": {
    "5acfab4c008c421093f0904340a73042": {
     "views": [
      {
       "cell_index": 3
      }
     ]
    }
   },
   "version": "1.2.0"
  }
 },
 "nbformat": 4,
 "nbformat_minor": 1
}
